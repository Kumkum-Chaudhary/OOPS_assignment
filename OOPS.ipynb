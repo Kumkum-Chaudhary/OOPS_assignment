{
  "nbformat": 4,
  "nbformat_minor": 0,
  "metadata": {
    "colab": {
      "provenance": []
    },
    "kernelspec": {
      "name": "python3",
      "display_name": "Python 3"
    },
    "language_info": {
      "name": "python"
    }
  },
  "cells": [
    {
      "cell_type": "markdown",
      "source": [
        "1. What are the five key concepts of Object-Oriented Programming (OOP)?\n",
        "\n",
        "Class – A blueprint for creating objects.\n",
        "\n",
        "Object – An instance of a class.\n",
        "\n",
        "Encapsulation – Hiding internal state and requiring interaction through methods.\n",
        "\n",
        "Inheritance – One class (child) inherits the properties of another (parent).\n",
        "\n",
        "Polymorphism – The ability to use a common interface for multiple forms (e.g., method overriding)."
      ],
      "metadata": {
        "id": "YqRe4HhaXqVa"
      }
    },
    {
      "cell_type": "code",
      "execution_count": 1,
      "metadata": {
        "id": "bWUBufpaXeUH"
      },
      "outputs": [],
      "source": [
        "# 2. Python class for a Car\n",
        "class Car:\n",
        "    def __init__(self, make, model, year):\n",
        "        self.make = make\n",
        "        self.model = model\n",
        "        self.year = year\n",
        "\n",
        "    def display_info(self):\n",
        "        print(f\"{self.year} {self.make} {self.model}\")\n"
      ]
    },
    {
      "cell_type": "code",
      "source": [
        "# 3. Difference between instance methods and class methods\n",
        "# Instance Method: Acts on an object instance. Takes self as the first argument.\n",
        "# Class Method: Acts on the class itself. Takes cls as the first argument.\n",
        "class Example:\n",
        "    count = 0\n",
        "\n",
        "    def instance_method(self):\n",
        "        return \"Called instance_method\", self\n",
        "\n",
        "    @classmethod\n",
        "    def class_method(cls):\n",
        "        return \"Called class_method\", cls\n"
      ],
      "metadata": {
        "id": "M-jw6jtsXz9J"
      },
      "execution_count": 2,
      "outputs": []
    },
    {
      "cell_type": "code",
      "source": [
        "# 4. Method Overloading in Python\n",
        "# Python does not support traditional method overloading. Instead, you use default or variable arguments.\n",
        "class Greet:\n",
        "    def say_hello(self, name=None):\n",
        "        if name:\n",
        "            print(f\"Hello, {name}!\")\n",
        "        else:\n",
        "            print(\"Hello!\")\n"
      ],
      "metadata": {
        "id": "aJ61I_FNYHDR"
      },
      "execution_count": 3,
      "outputs": []
    },
    {
      "cell_type": "markdown",
      "source": [
        "5. Access Modifiers in Python\n",
        "\n",
        "Public – No underscore (name) – accessible everywhere.\n",
        "\n",
        "Protected – Single underscore (_name) – intended for internal use.\n",
        "\n",
        "Private – Double underscore (__name) – name mangled, not accessible directly.\n"
      ],
      "metadata": {
        "id": "yNWQXr5GYScY"
      }
    },
    {
      "cell_type": "markdown",
      "source": [
        "6. Five Types of Inheritance in Python\n",
        "\n",
        "Single Inheritance – One base class, one derived.\n",
        "\n",
        "Multiple Inheritance – Inherits from multiple base classes.\n",
        "\n",
        "Multilevel Inheritance – Inheritance chain.\n",
        "\n",
        "Hierarchical Inheritance – Multiple child classes from one parent.\n",
        "\n",
        "Hybrid Inheritance – Combination of above."
      ],
      "metadata": {
        "id": "_3XZ-s4cYSfs"
      }
    },
    {
      "cell_type": "code",
      "source": [
        "class A:\n",
        "    def method_A(self):\n",
        "        print(\"A\")\n",
        "\n",
        "class B:\n",
        "    def method_B(self):\n",
        "        print(\"B\")\n",
        "\n",
        "class C(A, B):\n",
        "    pass\n",
        "\n",
        "obj = C()\n",
        "obj.method_A()\n",
        "obj.method_B()\n"
      ],
      "metadata": {
        "colab": {
          "base_uri": "https://localhost:8080/"
        },
        "id": "VJvu-_2zYPUA",
        "outputId": "133ac49e-447f-41fb-bb79-b87c99a549b0"
      },
      "execution_count": 4,
      "outputs": [
        {
          "output_type": "stream",
          "name": "stdout",
          "text": [
            "A\n",
            "B\n"
          ]
        }
      ]
    },
    {
      "cell_type": "code",
      "source": [
        "# 7. Method Resolution Order (MRO)\n",
        "# MRO determines the order in which base classes are searched when executing a method.\n",
        "# You can view it using ClassName.__mro__ or help(ClassName).\n",
        "class A: pass\n",
        "class B(A): pass\n",
        "class C(B): pass\n",
        "\n",
        "print(C.__mro__)\n"
      ],
      "metadata": {
        "colab": {
          "base_uri": "https://localhost:8080/"
        },
        "id": "_ohh-NmEYm40",
        "outputId": "1302f3e9-d52a-44e9-edf3-d0888666c7fa"
      },
      "execution_count": 5,
      "outputs": [
        {
          "output_type": "stream",
          "name": "stdout",
          "text": [
            "(<class '__main__.C'>, <class '__main__.B'>, <class '__main__.A'>, <class 'object'>)\n"
          ]
        }
      ]
    },
    {
      "cell_type": "code",
      "source": [
        "# 8. Abstract Base Class Shape\n",
        "from abc import ABC, abstractmethod\n",
        "import math\n",
        "\n",
        "class Shape(ABC):\n",
        "    @abstractmethod\n",
        "    def area(self):\n",
        "        pass\n",
        "\n",
        "class Circle(Shape):\n",
        "    def __init__(self, radius):\n",
        "        self.radius = radius\n",
        "\n",
        "    def area(self):\n",
        "        return math.pi * self.radius ** 2\n",
        "\n",
        "class Rectangle(Shape):\n",
        "    def __init__(self, width, height):\n",
        "        self.width = width\n",
        "        self.height = height\n",
        "\n",
        "    def area(self):\n",
        "        return self.width * self.height\n"
      ],
      "metadata": {
        "id": "nKP71wwnYm8E"
      },
      "execution_count": 6,
      "outputs": []
    },
    {
      "cell_type": "code",
      "source": [
        "# 9. Polymorphism with Shape Objects\n",
        "def print_area(shape):\n",
        "    print(\"Area:\", shape.area())\n",
        "\n",
        "c = Circle(5)\n",
        "r = Rectangle(4, 6)\n",
        "\n",
        "print_area(c)\n",
        "print_area(r)\n"
      ],
      "metadata": {
        "colab": {
          "base_uri": "https://localhost:8080/"
        },
        "id": "BDZK6DJdY0dR",
        "outputId": "013a1f6a-d0c7-400d-f996-ef50366db944"
      },
      "execution_count": 7,
      "outputs": [
        {
          "output_type": "stream",
          "name": "stdout",
          "text": [
            "Area: 78.53981633974483\n",
            "Area: 24\n"
          ]
        }
      ]
    },
    {
      "cell_type": "code",
      "source": [
        "# 10. Encapsulation in BankAccount\n",
        "class BankAccount:\n",
        "    def __init__(self, account_number, balance=0):\n",
        "        self.__account_number = account_number\n",
        "        self.__balance = balance\n",
        "\n",
        "    def deposit(self, amount):\n",
        "        if amount > 0:\n",
        "            self.__balance += amount\n",
        "\n",
        "    def withdraw(self, amount):\n",
        "        if 0 < amount <= self.__balance:\n",
        "            self.__balance -= amount\n",
        "\n",
        "    def get_balance(self):\n",
        "        return self.__balance\n"
      ],
      "metadata": {
        "id": "TfhMRuO7Y0fz"
      },
      "execution_count": 8,
      "outputs": []
    },
    {
      "cell_type": "code",
      "source": [
        "# 11. Class overriding __str__ and __add__\n",
        "# These magic methods allow:\n",
        "# __str__: Custom string representation of objects.\n",
        "# __add__: Custom behavior for the + operator\n",
        "class Book:\n",
        "    def __init__(self, title, pages):\n",
        "        self.title = title\n",
        "        self.pages = pages\n",
        "\n",
        "    def __str__(self):\n",
        "        return f\"Book: {self.title}, Pages: {self.pages}\"\n",
        "\n",
        "    def __add__(self, other):\n",
        "        return Book(f\"{self.title} & {other.title}\", self.pages + other.pages)\n",
        "\n",
        "b1 = Book(\"Python\", 300)\n",
        "b2 = Book(\"ML\", 400)\n",
        "b3 = b1 + b2\n",
        "print(b3)  # Uses __str__\n"
      ],
      "metadata": {
        "colab": {
          "base_uri": "https://localhost:8080/"
        },
        "id": "J7_1MC5XY0ik",
        "outputId": "a38a6cb6-20f2-4745-8c8d-95be49d67cec"
      },
      "execution_count": 9,
      "outputs": [
        {
          "output_type": "stream",
          "name": "stdout",
          "text": [
            "Book: Python & ML, Pages: 700\n"
          ]
        }
      ]
    },
    {
      "cell_type": "code",
      "source": [
        "# 12. Decorator to measure execution time\n",
        "import time\n",
        "\n",
        "def time_it(func):\n",
        "    def wrapper(*args, **kwargs):\n",
        "        start = time.time()\n",
        "        result = func(*args, **kwargs)\n",
        "        end = time.time()\n",
        "        print(f\"Execution Time: {end - start:.4f} seconds\")\n",
        "        return result\n",
        "    return wrapper\n",
        "\n",
        "@time_it\n",
        "def compute():\n",
        "    time.sleep(1)\n",
        "    print(\"Function finished.\")\n",
        "\n",
        "compute()\n"
      ],
      "metadata": {
        "colab": {
          "base_uri": "https://localhost:8080/"
        },
        "id": "ZbKT2TAyY0mF",
        "outputId": "70558696-3f10-46bc-ed29-20079f3804be"
      },
      "execution_count": 10,
      "outputs": [
        {
          "output_type": "stream",
          "name": "stdout",
          "text": [
            "Function finished.\n",
            "Execution Time: 1.0002 seconds\n"
          ]
        }
      ]
    },
    {
      "cell_type": "code",
      "source": [
        "# 13. Diamond Problem in Multiple Inheritance\n",
        "# Problem: When a class inherits from two classes that both inherit from a common base class, it can be unclear which version of a method it should inherit from.\n",
        "class A:\n",
        "    def msg(self):\n",
        "        print(\"A\")\n",
        "\n",
        "class B(A):\n",
        "    def msg(self):\n",
        "        print(\"B\")\n",
        "\n",
        "class C(A):\n",
        "    def msg(self):\n",
        "        print(\"C\")\n",
        "\n",
        "class D(B, C):\n",
        "    pass\n",
        "\n",
        "d = D()\n",
        "d.msg()  # Output: B (based on MRO)\n",
        "# Solution: Uses C3 linearization (Method Resolution Order - MRO) to resolve the ambiguity consistently.\n",
        "print(D.__mro__)\n"
      ],
      "metadata": {
        "colab": {
          "base_uri": "https://localhost:8080/"
        },
        "id": "4qLEA70fZYvh",
        "outputId": "b5172727-57b9-4b54-f98d-72b7644b09e9"
      },
      "execution_count": 12,
      "outputs": [
        {
          "output_type": "stream",
          "name": "stdout",
          "text": [
            "B\n",
            "(<class '__main__.D'>, <class '__main__.B'>, <class '__main__.C'>, <class '__main__.A'>, <class 'object'>)\n"
          ]
        }
      ]
    },
    {
      "cell_type": "code",
      "source": [
        "# 14. Class method to track number of instances\n",
        "class Tracker:\n",
        "    count = 0\n",
        "\n",
        "    def __init__(self):\n",
        "        Tracker.count += 1\n",
        "\n",
        "    @classmethod\n",
        "    def get_instance_count(cls):\n",
        "        return cls.count\n",
        "\n",
        "a = Tracker()\n",
        "b = Tracker()\n",
        "print(\"Instances created:\", Tracker.get_instance_count())\n"
      ],
      "metadata": {
        "colab": {
          "base_uri": "https://localhost:8080/"
        },
        "id": "IRMcsBcAZYzF",
        "outputId": "07f29249-4d98-4676-b087-5e359ba60d0c"
      },
      "execution_count": 13,
      "outputs": [
        {
          "output_type": "stream",
          "name": "stdout",
          "text": [
            "Instances created: 2\n"
          ]
        }
      ]
    },
    {
      "cell_type": "code",
      "source": [
        "# 15. Static method to check leap year\n",
        "class DateUtil:\n",
        "    @staticmethod\n",
        "    def is_leap_year(year):\n",
        "        return (year % 4 == 0 and year % 100 != 0) or (year % 400 == 0)\n",
        "\n",
        "print(DateUtil.is_leap_year(2024))  # True\n",
        "print(DateUtil.is_leap_year(1900))  # False\n"
      ],
      "metadata": {
        "colab": {
          "base_uri": "https://localhost:8080/"
        },
        "id": "PIKW_U0jZY9y",
        "outputId": "7b798503-6862-49fd-f839-6ae7eda82ceb"
      },
      "execution_count": 14,
      "outputs": [
        {
          "output_type": "stream",
          "name": "stdout",
          "text": [
            "True\n",
            "False\n"
          ]
        }
      ]
    }
  ]
}